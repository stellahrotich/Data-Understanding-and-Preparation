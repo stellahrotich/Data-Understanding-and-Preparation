{
 "cells": [
  {
   "cell_type": "markdown",
   "metadata": {
    "collapsed": true
   },
   "source": [
    "\n",
    "# Cluster Analysis Course Notebook"
   ]
  },
  {
   "cell_type": "markdown",
   "metadata": {},
   "source": [
    "### Importing Data files"
   ]
  },
  {
   "cell_type": "code",
   "execution_count": 48,
   "metadata": {},
   "outputs": [
    {
     "data": {
      "text/html": [
       "<div>\n",
       "<style scoped>\n",
       "    .dataframe tbody tr th:only-of-type {\n",
       "        vertical-align: middle;\n",
       "    }\n",
       "\n",
       "    .dataframe tbody tr th {\n",
       "        vertical-align: top;\n",
       "    }\n",
       "\n",
       "    .dataframe thead th {\n",
       "        text-align: right;\n",
       "    }\n",
       "</style>\n",
       "<table border=\"1\" class=\"dataframe\">\n",
       "  <thead>\n",
       "    <tr style=\"text-align: right;\">\n",
       "      <th></th>\n",
       "      <th>PRODUCT CODE</th>\n",
       "      <th>PRODUCT CATEGORY</th>\n",
       "      <th>UNIT LIST PRICE</th>\n",
       "    </tr>\n",
       "  </thead>\n",
       "  <tbody>\n",
       "    <tr>\n",
       "      <th>0</th>\n",
       "      <td>30001</td>\n",
       "      <td>HEALTH &amp; BEAUTY</td>\n",
       "      <td>$7.45</td>\n",
       "    </tr>\n",
       "    <tr>\n",
       "      <th>1</th>\n",
       "      <td>30002</td>\n",
       "      <td>HEALTH &amp; BEAUTY</td>\n",
       "      <td>$5.35</td>\n",
       "    </tr>\n",
       "    <tr>\n",
       "      <th>2</th>\n",
       "      <td>30003</td>\n",
       "      <td>HEALTH &amp; BEAUTY</td>\n",
       "      <td>$5.49</td>\n",
       "    </tr>\n",
       "    <tr>\n",
       "      <th>3</th>\n",
       "      <td>30004</td>\n",
       "      <td>HEALTH &amp; BEAUTY</td>\n",
       "      <td>$6.46</td>\n",
       "    </tr>\n",
       "    <tr>\n",
       "      <th>4</th>\n",
       "      <td>30005</td>\n",
       "      <td>HEALTH &amp; BEAUTY</td>\n",
       "      <td>$7.33</td>\n",
       "    </tr>\n",
       "  </tbody>\n",
       "</table>\n",
       "</div>"
      ],
      "text/plain": [
       "   PRODUCT CODE PRODUCT CATEGORY UNIT LIST PRICE\n",
       "0         30001  HEALTH & BEAUTY          $7.45 \n",
       "1         30002  HEALTH & BEAUTY          $5.35 \n",
       "2         30003  HEALTH & BEAUTY          $5.49 \n",
       "3         30004  HEALTH & BEAUTY          $6.46 \n",
       "4         30005  HEALTH & BEAUTY          $7.33 "
      ]
     },
     "execution_count": 48,
     "metadata": {},
     "output_type": "execute_result"
    }
   ],
   "source": [
    "#Import Product DataSet here\n",
    "import types\n",
    "import pandas as pd\n",
    "from botocore.client import Config\n",
    "import ibm_boto3\n",
    "\n",
    "def __iter__(self): return 0\n",
    "\n",
    "# @hidden_cell\n",
    "# The following code accesses a file in your IBM Cloud Object Storage. It includes your credentials.\n",
    "# You might want to remove those credentials before you share your notebook.\n",
    "client_26e37d9843024cf7924f9fc18e1447d0 = ibm_boto3.client(service_name='s3',\n",
    "    ibm_api_key_id='QcRV-3oXtA2OuOTaroL_tLBVzbuQzRj2cstOeCxfqt5_',\n",
    "    ibm_auth_endpoint=\"https://iam.bluemix.net/oidc/token\",\n",
    "    config=Config(signature_version='oauth'),\n",
    "    endpoint_url='https://s3-api.us-geo.objectstorage.service.networklayer.com')\n",
    "\n",
    "body = client_26e37d9843024cf7924f9fc18e1447d0.get_object(Bucket='project1-donotdelete-pr-m5oqgyaljasxsb',Key='DNA - Product Data Set - Student 2 of 3.csv')['Body']\n",
    "# add missing __iter__ method, so pandas accepts body as file-like object\n",
    "if not hasattr(body, \"__iter__\"): body.__iter__ = types.MethodType( __iter__, body )\n",
    "\n",
    "product_data = pd.read_csv(body,sep='|')\n",
    "product_data.head()\n",
    "\n"
   ]
  },
  {
   "cell_type": "code",
   "execution_count": 50,
   "metadata": {},
   "outputs": [
    {
     "data": {
      "text/html": [
       "<div>\n",
       "<style scoped>\n",
       "    .dataframe tbody tr th:only-of-type {\n",
       "        vertical-align: middle;\n",
       "    }\n",
       "\n",
       "    .dataframe tbody tr th {\n",
       "        vertical-align: top;\n",
       "    }\n",
       "\n",
       "    .dataframe thead th {\n",
       "        text-align: right;\n",
       "    }\n",
       "</style>\n",
       "<table border=\"1\" class=\"dataframe\">\n",
       "  <thead>\n",
       "    <tr style=\"text-align: right;\">\n",
       "      <th></th>\n",
       "      <th>CUSTOMER NUM</th>\n",
       "      <th>PRODUCT NUM</th>\n",
       "      <th>QUANTITY PURCHASED</th>\n",
       "      <th>DISCOUNT TAKEN</th>\n",
       "      <th>TRANSACTION DATE</th>\n",
       "      <th>STOCKOUT</th>\n",
       "    </tr>\n",
       "  </thead>\n",
       "  <tbody>\n",
       "    <tr>\n",
       "      <th>0</th>\n",
       "      <td>10114</td>\n",
       "      <td>30011</td>\n",
       "      <td>4</td>\n",
       "      <td>0.0</td>\n",
       "      <td>1/2/2015</td>\n",
       "      <td>0</td>\n",
       "    </tr>\n",
       "    <tr>\n",
       "      <th>1</th>\n",
       "      <td>10217</td>\n",
       "      <td>30016</td>\n",
       "      <td>3</td>\n",
       "      <td>0.0</td>\n",
       "      <td>1/2/2015</td>\n",
       "      <td>0</td>\n",
       "    </tr>\n",
       "    <tr>\n",
       "      <th>2</th>\n",
       "      <td>10224</td>\n",
       "      <td>30013</td>\n",
       "      <td>4</td>\n",
       "      <td>0.0</td>\n",
       "      <td>1/2/2015</td>\n",
       "      <td>0</td>\n",
       "    </tr>\n",
       "    <tr>\n",
       "      <th>3</th>\n",
       "      <td>10103</td>\n",
       "      <td>30012</td>\n",
       "      <td>3</td>\n",
       "      <td>0.2</td>\n",
       "      <td>1/2/2015</td>\n",
       "      <td>0</td>\n",
       "    </tr>\n",
       "    <tr>\n",
       "      <th>4</th>\n",
       "      <td>10037</td>\n",
       "      <td>30010</td>\n",
       "      <td>8</td>\n",
       "      <td>0.0</td>\n",
       "      <td>1/2/2015</td>\n",
       "      <td>0</td>\n",
       "    </tr>\n",
       "  </tbody>\n",
       "</table>\n",
       "</div>"
      ],
      "text/plain": [
       "   CUSTOMER NUM  PRODUCT NUM  QUANTITY PURCHASED  DISCOUNT TAKEN  \\\n",
       "0         10114        30011                   4             0.0   \n",
       "1         10217        30016                   3             0.0   \n",
       "2         10224        30013                   4             0.0   \n",
       "3         10103        30012                   3             0.2   \n",
       "4         10037        30010                   8             0.0   \n",
       "\n",
       "  TRANSACTION DATE  STOCKOUT  \n",
       "0         1/2/2015         0  \n",
       "1         1/2/2015         0  \n",
       "2         1/2/2015         0  \n",
       "3         1/2/2015         0  \n",
       "4         1/2/2015         0  "
      ]
     },
     "execution_count": 50,
     "metadata": {},
     "output_type": "execute_result"
    }
   ],
   "source": [
    "#Import Transactions\n",
    "body = client_26e37d9843024cf7924f9fc18e1447d0.get_object(Bucket='project1-donotdelete-pr-m5oqgyaljasxsb',Key='DNA- Transaction Data Set - Student 3 of 3.csv')['Body']\n",
    "# add missing __iter__ method, so pandas accepts body as file-like object\n",
    "if not hasattr(body, \"__iter__\"): body.__iter__ = types.MethodType( __iter__, body )\n",
    "\n",
    "transactions_data = pd.read_csv(body,sep='|')\n",
    "transactions_data.head()\n",
    "\n"
   ]
  },
  {
   "cell_type": "code",
   "execution_count": 51,
   "metadata": {},
   "outputs": [
    {
     "data": {
      "text/html": [
       "<div>\n",
       "<style scoped>\n",
       "    .dataframe tbody tr th:only-of-type {\n",
       "        vertical-align: middle;\n",
       "    }\n",
       "\n",
       "    .dataframe tbody tr th {\n",
       "        vertical-align: top;\n",
       "    }\n",
       "\n",
       "    .dataframe thead th {\n",
       "        text-align: right;\n",
       "    }\n",
       "</style>\n",
       "<table border=\"1\" class=\"dataframe\">\n",
       "  <thead>\n",
       "    <tr style=\"text-align: right;\">\n",
       "      <th></th>\n",
       "      <th>CUSTOMERID</th>\n",
       "      <th>GENDER</th>\n",
       "      <th>AGE</th>\n",
       "      <th>INCOME</th>\n",
       "      <th>EXPERIENCE SCORE</th>\n",
       "      <th>LOYALTY GROUP</th>\n",
       "      <th>ENROLLMENT DATE</th>\n",
       "      <th>HOUSEHOLD SIZE</th>\n",
       "      <th>MARITAL STATUS</th>\n",
       "    </tr>\n",
       "  </thead>\n",
       "  <tbody>\n",
       "    <tr>\n",
       "      <th>0</th>\n",
       "      <td>10001</td>\n",
       "      <td>0</td>\n",
       "      <td>64</td>\n",
       "      <td>$133,498</td>\n",
       "      <td>5</td>\n",
       "      <td>enrolled</td>\n",
       "      <td>06-03-2013</td>\n",
       "      <td>4</td>\n",
       "      <td>Single</td>\n",
       "    </tr>\n",
       "    <tr>\n",
       "      <th>1</th>\n",
       "      <td>10002</td>\n",
       "      <td>0</td>\n",
       "      <td>42</td>\n",
       "      <td>$94,475</td>\n",
       "      <td>9</td>\n",
       "      <td>notenrolled</td>\n",
       "      <td>NaN</td>\n",
       "      <td>6</td>\n",
       "      <td>Married</td>\n",
       "    </tr>\n",
       "    <tr>\n",
       "      <th>2</th>\n",
       "      <td>10003</td>\n",
       "      <td>0</td>\n",
       "      <td>40</td>\n",
       "      <td>$88,610</td>\n",
       "      <td>9</td>\n",
       "      <td>enrolled</td>\n",
       "      <td>02-09-2010</td>\n",
       "      <td>5</td>\n",
       "      <td>Married</td>\n",
       "    </tr>\n",
       "    <tr>\n",
       "      <th>3</th>\n",
       "      <td>10004</td>\n",
       "      <td>0</td>\n",
       "      <td>38</td>\n",
       "      <td>$84,313</td>\n",
       "      <td>8</td>\n",
       "      <td>enrolled</td>\n",
       "      <td>06-04-2015</td>\n",
       "      <td>1</td>\n",
       "      <td>Single</td>\n",
       "    </tr>\n",
       "    <tr>\n",
       "      <th>4</th>\n",
       "      <td>10005</td>\n",
       "      <td>0</td>\n",
       "      <td>30</td>\n",
       "      <td>$51,498</td>\n",
       "      <td>3</td>\n",
       "      <td>notenrolled</td>\n",
       "      <td>NaN</td>\n",
       "      <td>1</td>\n",
       "      <td>Single</td>\n",
       "    </tr>\n",
       "  </tbody>\n",
       "</table>\n",
       "</div>"
      ],
      "text/plain": [
       "   CUSTOMERID  GENDER  AGE    INCOME  EXPERIENCE SCORE LOYALTY GROUP  \\\n",
       "0       10001       0   64  $133,498                 5      enrolled   \n",
       "1       10002       0   42   $94,475                 9   notenrolled   \n",
       "2       10003       0   40   $88,610                 9      enrolled   \n",
       "3       10004       0   38   $84,313                 8      enrolled   \n",
       "4       10005       0   30   $51,498                 3   notenrolled   \n",
       "\n",
       "  ENROLLMENT DATE  HOUSEHOLD SIZE MARITAL STATUS  \n",
       "0      06-03-2013               4         Single  \n",
       "1             NaN               6        Married  \n",
       "2      02-09-2010               5        Married  \n",
       "3      06-04-2015               1         Single  \n",
       "4             NaN               1         Single  "
      ]
     },
     "execution_count": 51,
     "metadata": {},
     "output_type": "execute_result"
    }
   ],
   "source": [
    "#Import Customer Dataset Her\n",
    "body = client_26e37d9843024cf7924f9fc18e1447d0.get_object(Bucket='project1-donotdelete-pr-m5oqgyaljasxsb',Key='DNA - Customer Data Set - Student 1 of 3.csv')['Body']\n",
    "# add missing __iter__ method, so pandas accepts body as file-like object\n",
    "if not hasattr(body, \"__iter__\"): body.__iter__ = types.MethodType( __iter__, body )\n",
    "\n",
    "customer_data = pd.read_csv(body)\n",
    "customer_data.head()\n",
    "\n"
   ]
  },
  {
   "cell_type": "markdown",
   "metadata": {},
   "source": [
    "### Changing data types"
   ]
  },
  {
   "cell_type": "code",
   "execution_count": 52,
   "metadata": {},
   "outputs": [],
   "source": [
    "customer_data['INCOME']=customer_data['INCOME'].map(lambda x : x.replace('$',''))"
   ]
  },
  {
   "cell_type": "code",
   "execution_count": 53,
   "metadata": {},
   "outputs": [],
   "source": [
    "customer_data['INCOME']=customer_data['INCOME'].map(lambda x : int(x.replace(',','')))"
   ]
  },
  {
   "cell_type": "markdown",
   "metadata": {},
   "source": [
    "### Creating Customer View"
   ]
  },
  {
   "cell_type": "code",
   "execution_count": 54,
   "metadata": {},
   "outputs": [],
   "source": [
    "trans_products=transactions_data.merge(product_data,how='inner', left_on='PRODUCT NUM', right_on='PRODUCT CODE')"
   ]
  },
  {
   "cell_type": "code",
   "execution_count": 55,
   "metadata": {},
   "outputs": [],
   "source": [
    "trans_products['UNIT LIST PRICE']=trans_products['UNIT LIST PRICE'].map(lambda x : float(x.replace('$','')))"
   ]
  },
  {
   "cell_type": "code",
   "execution_count": 56,
   "metadata": {},
   "outputs": [],
   "source": [
    "trans_products['Total_Price']=trans_products['QUANTITY PURCHASED'] * trans_products['UNIT LIST PRICE'] * (1- trans_products['DISCOUNT TAKEN'])"
   ]
  },
  {
   "cell_type": "code",
   "execution_count": 57,
   "metadata": {},
   "outputs": [],
   "source": [
    "customer_prod_categ=trans_products.groupby(['CUSTOMER NUM','PRODUCT CATEGORY']).agg({'Total_Price':'sum'})"
   ]
  },
  {
   "cell_type": "code",
   "execution_count": 58,
   "metadata": {},
   "outputs": [],
   "source": [
    "customer_prod_categ=customer_prod_categ.reset_index()"
   ]
  },
  {
   "cell_type": "code",
   "execution_count": 59,
   "metadata": {},
   "outputs": [],
   "source": [
    "customer_pivot=customer_prod_categ.pivot(index='CUSTOMER NUM',columns='PRODUCT CATEGORY',values='Total_Price')"
   ]
  },
  {
   "cell_type": "code",
   "execution_count": 60,
   "metadata": {},
   "outputs": [],
   "source": [
    "trans_total_spend=trans_products.groupby('CUSTOMER NUM').agg({'Total_Price':'sum'}).\\\n",
    "rename(columns={'Total_Price':'TOTAL SPENT'})"
   ]
  },
  {
   "cell_type": "code",
   "execution_count": 61,
   "metadata": {},
   "outputs": [],
   "source": [
    "customer_KPIs=customer_pivot.merge(trans_total_spend,how='inner',left_index=True, right_index=True )"
   ]
  },
  {
   "cell_type": "code",
   "execution_count": 62,
   "metadata": {},
   "outputs": [],
   "source": [
    "customer_KPIs=customer_KPIs.fillna(0)\n"
   ]
  },
  {
   "cell_type": "code",
   "execution_count": 63,
   "metadata": {},
   "outputs": [],
   "source": [
    "customer_all_view=customer_data.merge(customer_KPIs,how='inner', left_on='CUSTOMERID', right_index=True)"
   ]
  },
  {
   "cell_type": "code",
   "execution_count": 64,
   "metadata": {},
   "outputs": [
    {
     "data": {
      "text/html": [
       "<div>\n",
       "<style scoped>\n",
       "    .dataframe tbody tr th:only-of-type {\n",
       "        vertical-align: middle;\n",
       "    }\n",
       "\n",
       "    .dataframe tbody tr th {\n",
       "        vertical-align: top;\n",
       "    }\n",
       "\n",
       "    .dataframe thead th {\n",
       "        text-align: right;\n",
       "    }\n",
       "</style>\n",
       "<table border=\"1\" class=\"dataframe\">\n",
       "  <thead>\n",
       "    <tr style=\"text-align: right;\">\n",
       "      <th></th>\n",
       "      <th>CUSTOMERID</th>\n",
       "      <th>GENDER</th>\n",
       "      <th>AGE</th>\n",
       "      <th>INCOME</th>\n",
       "      <th>EXPERIENCE SCORE</th>\n",
       "      <th>LOYALTY GROUP</th>\n",
       "      <th>ENROLLMENT DATE</th>\n",
       "      <th>HOUSEHOLD SIZE</th>\n",
       "      <th>MARITAL STATUS</th>\n",
       "      <th>APPAREL</th>\n",
       "      <th>ELECTRONICS</th>\n",
       "      <th>FOOD</th>\n",
       "      <th>HEALTH &amp; BEAUTY</th>\n",
       "      <th>TOTAL SPENT</th>\n",
       "    </tr>\n",
       "  </thead>\n",
       "  <tbody>\n",
       "    <tr>\n",
       "      <th>0</th>\n",
       "      <td>10001</td>\n",
       "      <td>0</td>\n",
       "      <td>64</td>\n",
       "      <td>133498</td>\n",
       "      <td>5</td>\n",
       "      <td>enrolled</td>\n",
       "      <td>06-03-2013</td>\n",
       "      <td>4</td>\n",
       "      <td>Single</td>\n",
       "      <td>4022.430</td>\n",
       "      <td>1601.315</td>\n",
       "      <td>68.688</td>\n",
       "      <td>1134.337</td>\n",
       "      <td>6826.770</td>\n",
       "    </tr>\n",
       "    <tr>\n",
       "      <th>1</th>\n",
       "      <td>10002</td>\n",
       "      <td>0</td>\n",
       "      <td>42</td>\n",
       "      <td>94475</td>\n",
       "      <td>9</td>\n",
       "      <td>notenrolled</td>\n",
       "      <td>NaN</td>\n",
       "      <td>6</td>\n",
       "      <td>Married</td>\n",
       "      <td>2312.509</td>\n",
       "      <td>2473.163</td>\n",
       "      <td>276.779</td>\n",
       "      <td>0.000</td>\n",
       "      <td>5062.451</td>\n",
       "    </tr>\n",
       "    <tr>\n",
       "      <th>2</th>\n",
       "      <td>10003</td>\n",
       "      <td>0</td>\n",
       "      <td>40</td>\n",
       "      <td>88610</td>\n",
       "      <td>9</td>\n",
       "      <td>enrolled</td>\n",
       "      <td>02-09-2010</td>\n",
       "      <td>5</td>\n",
       "      <td>Married</td>\n",
       "      <td>2887.382</td>\n",
       "      <td>5414.418</td>\n",
       "      <td>260.640</td>\n",
       "      <td>0.000</td>\n",
       "      <td>8562.440</td>\n",
       "    </tr>\n",
       "    <tr>\n",
       "      <th>3</th>\n",
       "      <td>10004</td>\n",
       "      <td>0</td>\n",
       "      <td>38</td>\n",
       "      <td>84313</td>\n",
       "      <td>8</td>\n",
       "      <td>enrolled</td>\n",
       "      <td>06-04-2015</td>\n",
       "      <td>1</td>\n",
       "      <td>Single</td>\n",
       "      <td>3637.213</td>\n",
       "      <td>1840.211</td>\n",
       "      <td>45.270</td>\n",
       "      <td>0.000</td>\n",
       "      <td>5522.694</td>\n",
       "    </tr>\n",
       "    <tr>\n",
       "      <th>4</th>\n",
       "      <td>10005</td>\n",
       "      <td>0</td>\n",
       "      <td>30</td>\n",
       "      <td>51498</td>\n",
       "      <td>3</td>\n",
       "      <td>notenrolled</td>\n",
       "      <td>NaN</td>\n",
       "      <td>1</td>\n",
       "      <td>Single</td>\n",
       "      <td>213.512</td>\n",
       "      <td>0.000</td>\n",
       "      <td>0.000</td>\n",
       "      <td>0.000</td>\n",
       "      <td>213.512</td>\n",
       "    </tr>\n",
       "  </tbody>\n",
       "</table>\n",
       "</div>"
      ],
      "text/plain": [
       "   CUSTOMERID  GENDER  AGE  INCOME  EXPERIENCE SCORE LOYALTY GROUP  \\\n",
       "0       10001       0   64  133498                 5      enrolled   \n",
       "1       10002       0   42   94475                 9   notenrolled   \n",
       "2       10003       0   40   88610                 9      enrolled   \n",
       "3       10004       0   38   84313                 8      enrolled   \n",
       "4       10005       0   30   51498                 3   notenrolled   \n",
       "\n",
       "  ENROLLMENT DATE  HOUSEHOLD SIZE MARITAL STATUS   APPAREL  ELECTRONICS  \\\n",
       "0      06-03-2013               4         Single  4022.430     1601.315   \n",
       "1             NaN               6        Married  2312.509     2473.163   \n",
       "2      02-09-2010               5        Married  2887.382     5414.418   \n",
       "3      06-04-2015               1         Single  3637.213     1840.211   \n",
       "4             NaN               1         Single   213.512        0.000   \n",
       "\n",
       "      FOOD  HEALTH & BEAUTY  TOTAL SPENT  \n",
       "0   68.688         1134.337     6826.770  \n",
       "1  276.779            0.000     5062.451  \n",
       "2  260.640            0.000     8562.440  \n",
       "3   45.270            0.000     5522.694  \n",
       "4    0.000            0.000      213.512  "
      ]
     },
     "execution_count": 64,
     "metadata": {},
     "output_type": "execute_result"
    }
   ],
   "source": [
    "customer_all_view.head()"
   ]
  },
  {
   "cell_type": "markdown",
   "metadata": {},
   "source": [
    "# Clustering  "
   ]
  },
  {
   "cell_type": "code",
   "execution_count": 65,
   "metadata": {},
   "outputs": [],
   "source": [
    "#Begin Writing your code here\n",
    "from sklearn.cluster import KMeans\n",
    "from sklearn.cluster import AgglomerativeClustering"
   ]
  },
  {
   "cell_type": "code",
   "execution_count": 66,
   "metadata": {},
   "outputs": [
    {
     "data": {
      "text/html": [
       "<div>\n",
       "<style scoped>\n",
       "    .dataframe tbody tr th:only-of-type {\n",
       "        vertical-align: middle;\n",
       "    }\n",
       "\n",
       "    .dataframe tbody tr th {\n",
       "        vertical-align: top;\n",
       "    }\n",
       "\n",
       "    .dataframe thead th {\n",
       "        text-align: right;\n",
       "    }\n",
       "</style>\n",
       "<table border=\"1\" class=\"dataframe\">\n",
       "  <thead>\n",
       "    <tr style=\"text-align: right;\">\n",
       "      <th></th>\n",
       "      <th>INCOME</th>\n",
       "      <th>TOTAL SPENT</th>\n",
       "    </tr>\n",
       "  </thead>\n",
       "  <tbody>\n",
       "    <tr>\n",
       "      <th>0</th>\n",
       "      <td>133498</td>\n",
       "      <td>6826.770</td>\n",
       "    </tr>\n",
       "    <tr>\n",
       "      <th>1</th>\n",
       "      <td>94475</td>\n",
       "      <td>5062.451</td>\n",
       "    </tr>\n",
       "    <tr>\n",
       "      <th>2</th>\n",
       "      <td>88610</td>\n",
       "      <td>8562.440</td>\n",
       "    </tr>\n",
       "    <tr>\n",
       "      <th>3</th>\n",
       "      <td>84313</td>\n",
       "      <td>5522.694</td>\n",
       "    </tr>\n",
       "    <tr>\n",
       "      <th>4</th>\n",
       "      <td>51498</td>\n",
       "      <td>213.512</td>\n",
       "    </tr>\n",
       "  </tbody>\n",
       "</table>\n",
       "</div>"
      ],
      "text/plain": [
       "   INCOME  TOTAL SPENT\n",
       "0  133498     6826.770\n",
       "1   94475     5062.451\n",
       "2   88610     8562.440\n",
       "3   84313     5522.694\n",
       "4   51498      213.512"
      ]
     },
     "execution_count": 66,
     "metadata": {},
     "output_type": "execute_result"
    }
   ],
   "source": [
    "cluster_input=customer_all_view[['INCOME','TOTAL SPENT']]\n",
    "cluster_input.head(5)"
   ]
  },
  {
   "cell_type": "code",
   "execution_count": 67,
   "metadata": {},
   "outputs": [],
   "source": [
    "Kmeans_model=KMeans(n_clusters=4)"
   ]
  },
  {
   "cell_type": "code",
   "execution_count": 68,
   "metadata": {},
   "outputs": [
    {
     "data": {
      "text/plain": [
       "KMeans(algorithm='auto', copy_x=True, init='k-means++', max_iter=300,\n",
       "    n_clusters=4, n_init=10, n_jobs=1, precompute_distances='auto',\n",
       "    random_state=None, tol=0.0001, verbose=0)"
      ]
     },
     "execution_count": 68,
     "metadata": {},
     "output_type": "execute_result"
    }
   ],
   "source": [
    "Kmeans_model"
   ]
  },
  {
   "cell_type": "code",
   "execution_count": 69,
   "metadata": {},
   "outputs": [],
   "source": [
    "cluster_output = Kmeans_model.fit_predict(cluster_input)"
   ]
  },
  {
   "cell_type": "code",
   "execution_count": 70,
   "metadata": {},
   "outputs": [
    {
     "data": {
      "text/plain": [
       "array([0, 3, 3, 3, 1, 0, 3, 2, 2, 3, 1, 2, 3, 3, 1, 3, 3, 2, 0, 1, 2, 2, 2,\n",
       "       1, 2, 2, 3, 1, 1, 0, 3, 1, 1, 3, 1, 1, 1, 2, 2, 1, 1, 3, 3, 3, 0, 1,\n",
       "       1, 3, 0, 1, 2, 1, 1, 1, 2, 1, 2, 2, 2, 1, 3, 2, 0, 2, 0, 3, 3, 2, 1,\n",
       "       3, 3, 1, 1, 3, 0, 1, 3, 1, 3, 0, 3, 2, 0, 2, 1, 2, 0, 1, 3, 1, 2, 0,\n",
       "       2, 2, 2, 3, 2, 1, 0, 2, 1, 1, 1, 1, 3, 2, 2, 1, 3, 1, 1, 1, 3, 1, 2,\n",
       "       1, 0, 0, 3, 3, 1, 3, 2, 1, 3, 3, 2, 3, 1, 0, 3, 3, 1, 3, 0, 3, 0, 0,\n",
       "       2, 3, 3, 1, 1, 1, 3, 2, 3, 1, 2, 3, 3, 2, 2, 2, 3, 2, 1, 1, 2, 1, 0,\n",
       "       1, 0, 2, 1, 3, 1, 0, 3, 1, 0, 1, 2, 2, 0, 1, 0, 0, 2, 1, 0, 1, 3, 1,\n",
       "       2, 0, 2, 2, 1, 0, 1, 2, 2, 0, 2, 0, 2, 0, 2, 3, 2, 1, 0, 0, 2, 1, 3,\n",
       "       0, 0, 0, 0, 1, 2, 3, 0, 2, 1, 2, 3, 1, 3, 1, 2, 1, 1, 1, 2, 1, 1, 3,\n",
       "       2, 3, 2, 3, 3, 1, 2, 0, 1, 1, 1, 3, 3, 3, 3, 1, 2, 2, 0, 1, 3, 2, 1,\n",
       "       2, 1, 3, 1, 0, 2, 2, 1, 0, 1, 3, 3, 0, 2, 3, 3, 2, 0, 1, 0, 1, 1, 1,\n",
       "       0, 3, 2, 2, 2, 3, 3, 3, 0, 3, 2, 3, 2, 0, 0, 1, 1, 0, 1, 1, 1, 1, 3,\n",
       "       3, 1, 3, 3, 0, 1, 0, 1, 1, 0, 1, 1, 2, 3, 3, 3, 3, 1, 0, 2, 1, 2, 3,\n",
       "       1, 3, 1, 1, 3, 1, 2, 1, 1, 2, 1, 3, 3, 1, 1, 2, 2, 2, 2, 0, 2, 3, 2,\n",
       "       2, 3, 0, 2, 3, 1, 3, 1, 2, 0, 0, 2, 3, 1, 3, 0, 3, 1, 2, 3, 1, 3, 2,\n",
       "       2, 3, 2, 3, 3, 0, 3, 0, 2, 3, 1, 2, 3, 1, 1, 1, 0, 3, 1, 3, 0, 1, 0,\n",
       "       1, 3, 0, 1, 2, 0, 3, 0, 3, 2, 0, 1, 1, 0, 3, 1, 0, 3, 3, 0, 2, 1, 3,\n",
       "       0, 1, 2, 2, 0, 1, 1, 3, 3, 3, 2, 3, 0, 2, 3, 1, 2, 3, 3, 1, 0, 3, 2,\n",
       "       2, 3, 2, 2, 1, 1, 0, 1, 3, 0, 1, 1, 3, 1, 1, 1, 1, 0, 3, 2, 2, 3, 1,\n",
       "       0, 3, 2, 3, 0, 2, 3, 1, 1, 2, 0, 3, 0, 2, 2, 3, 3, 3, 1, 1, 1, 2, 2,\n",
       "       0, 3, 1, 3, 1, 2, 0, 3, 3, 0, 3, 1, 2, 2, 2, 1, 3], dtype=int32)"
      ]
     },
     "execution_count": 70,
     "metadata": {},
     "output_type": "execute_result"
    }
   ],
   "source": [
    "cluster_output"
   ]
  },
  {
   "cell_type": "code",
   "execution_count": 71,
   "metadata": {},
   "outputs": [
    {
     "data": {
      "text/plain": [
       "numpy.ndarray"
      ]
     },
     "execution_count": 71,
     "metadata": {},
     "output_type": "execute_result"
    }
   ],
   "source": [
    "type(cluster_output)"
   ]
  },
  {
   "cell_type": "code",
   "execution_count": 72,
   "metadata": {},
   "outputs": [
    {
     "data": {
      "text/html": [
       "<div>\n",
       "<style scoped>\n",
       "    .dataframe tbody tr th:only-of-type {\n",
       "        vertical-align: middle;\n",
       "    }\n",
       "\n",
       "    .dataframe tbody tr th {\n",
       "        vertical-align: top;\n",
       "    }\n",
       "\n",
       "    .dataframe thead th {\n",
       "        text-align: right;\n",
       "    }\n",
       "</style>\n",
       "<table border=\"1\" class=\"dataframe\">\n",
       "  <thead>\n",
       "    <tr style=\"text-align: right;\">\n",
       "      <th></th>\n",
       "      <th>PRODUCT CODE</th>\n",
       "      <th>PRODUCT CATEGORY</th>\n",
       "      <th>UNIT LIST PRICE</th>\n",
       "    </tr>\n",
       "  </thead>\n",
       "  <tbody>\n",
       "    <tr>\n",
       "      <th>0</th>\n",
       "      <td>30001</td>\n",
       "      <td>HEALTH &amp; BEAUTY</td>\n",
       "      <td>$7.45</td>\n",
       "    </tr>\n",
       "    <tr>\n",
       "      <th>1</th>\n",
       "      <td>30002</td>\n",
       "      <td>HEALTH &amp; BEAUTY</td>\n",
       "      <td>$5.35</td>\n",
       "    </tr>\n",
       "    <tr>\n",
       "      <th>2</th>\n",
       "      <td>30003</td>\n",
       "      <td>HEALTH &amp; BEAUTY</td>\n",
       "      <td>$5.49</td>\n",
       "    </tr>\n",
       "    <tr>\n",
       "      <th>3</th>\n",
       "      <td>30004</td>\n",
       "      <td>HEALTH &amp; BEAUTY</td>\n",
       "      <td>$6.46</td>\n",
       "    </tr>\n",
       "    <tr>\n",
       "      <th>4</th>\n",
       "      <td>30005</td>\n",
       "      <td>HEALTH &amp; BEAUTY</td>\n",
       "      <td>$7.33</td>\n",
       "    </tr>\n",
       "  </tbody>\n",
       "</table>\n",
       "</div>"
      ],
      "text/plain": [
       "   PRODUCT CODE PRODUCT CATEGORY UNIT LIST PRICE\n",
       "0         30001  HEALTH & BEAUTY          $7.45 \n",
       "1         30002  HEALTH & BEAUTY          $5.35 \n",
       "2         30003  HEALTH & BEAUTY          $5.49 \n",
       "3         30004  HEALTH & BEAUTY          $6.46 \n",
       "4         30005  HEALTH & BEAUTY          $7.33 "
      ]
     },
     "execution_count": 72,
     "metadata": {},
     "output_type": "execute_result"
    }
   ],
   "source": [
    "product_data.head()"
   ]
  },
  {
   "cell_type": "code",
   "execution_count": 73,
   "metadata": {},
   "outputs": [
    {
     "data": {
      "text/plain": [
       "array([[30001, 'HEALTH & BEAUTY', ' $7.45 '],\n",
       "       [30002, 'HEALTH & BEAUTY', ' $5.35 '],\n",
       "       [30003, 'HEALTH & BEAUTY', ' $5.49 '],\n",
       "       [30004, 'HEALTH & BEAUTY', ' $6.46 '],\n",
       "       [30005, 'HEALTH & BEAUTY', ' $7.33 ']], dtype=object)"
      ]
     },
     "execution_count": 73,
     "metadata": {},
     "output_type": "execute_result"
    }
   ],
   "source": [
    "product_data.head().values"
   ]
  },
  {
   "cell_type": "code",
   "execution_count": 74,
   "metadata": {},
   "outputs": [
    {
     "data": {
      "text/plain": [
       "' $5.35 '"
      ]
     },
     "execution_count": 74,
     "metadata": {},
     "output_type": "execute_result"
    }
   ],
   "source": [
    "product_data.head().values[1,2]"
   ]
  },
  {
   "cell_type": "code",
   "execution_count": 75,
   "metadata": {},
   "outputs": [
    {
     "data": {
      "text/plain": [
       "array([30002, 'HEALTH & BEAUTY', ' $5.35 '], dtype=object)"
      ]
     },
     "execution_count": 75,
     "metadata": {},
     "output_type": "execute_result"
    }
   ],
   "source": [
    "product_data.head().values[1,:]"
   ]
  },
  {
   "cell_type": "code",
   "execution_count": 76,
   "metadata": {},
   "outputs": [
    {
     "data": {
      "text/plain": [
       "array([' $7.45 ', ' $5.35 ', ' $5.49 ', ' $6.46 ', ' $7.33 '], dtype=object)"
      ]
     },
     "execution_count": 76,
     "metadata": {},
     "output_type": "execute_result"
    }
   ],
   "source": [
    "product_data.head().values[:,2]"
   ]
  },
  {
   "cell_type": "code",
   "execution_count": 82,
   "metadata": {},
   "outputs": [],
   "source": [
    "cluster_output_pd=pd.DataFrame(cluster_output,columns=['segment'])"
   ]
  },
  {
   "cell_type": "code",
   "execution_count": 83,
   "metadata": {},
   "outputs": [
    {
     "data": {
      "text/html": [
       "<div>\n",
       "<style scoped>\n",
       "    .dataframe tbody tr th:only-of-type {\n",
       "        vertical-align: middle;\n",
       "    }\n",
       "\n",
       "    .dataframe tbody tr th {\n",
       "        vertical-align: top;\n",
       "    }\n",
       "\n",
       "    .dataframe thead th {\n",
       "        text-align: right;\n",
       "    }\n",
       "</style>\n",
       "<table border=\"1\" class=\"dataframe\">\n",
       "  <thead>\n",
       "    <tr style=\"text-align: right;\">\n",
       "      <th></th>\n",
       "      <th>segment</th>\n",
       "    </tr>\n",
       "  </thead>\n",
       "  <tbody>\n",
       "    <tr>\n",
       "      <th>0</th>\n",
       "      <td>0</td>\n",
       "    </tr>\n",
       "    <tr>\n",
       "      <th>1</th>\n",
       "      <td>3</td>\n",
       "    </tr>\n",
       "    <tr>\n",
       "      <th>2</th>\n",
       "      <td>3</td>\n",
       "    </tr>\n",
       "    <tr>\n",
       "      <th>3</th>\n",
       "      <td>3</td>\n",
       "    </tr>\n",
       "    <tr>\n",
       "      <th>4</th>\n",
       "      <td>1</td>\n",
       "    </tr>\n",
       "  </tbody>\n",
       "</table>\n",
       "</div>"
      ],
      "text/plain": [
       "   segment\n",
       "0        0\n",
       "1        3\n",
       "2        3\n",
       "3        3\n",
       "4        1"
      ]
     },
     "execution_count": 83,
     "metadata": {},
     "output_type": "execute_result"
    }
   ],
   "source": [
    "cluster_output_pd.head()"
   ]
  },
  {
   "cell_type": "code",
   "execution_count": 84,
   "metadata": {},
   "outputs": [],
   "source": [
    "segment_DF=pd.concat([cluster_input,cluster_output_pd],axis=1)"
   ]
  },
  {
   "cell_type": "code",
   "execution_count": 85,
   "metadata": {},
   "outputs": [
    {
     "data": {
      "text/html": [
       "<div>\n",
       "<style scoped>\n",
       "    .dataframe tbody tr th:only-of-type {\n",
       "        vertical-align: middle;\n",
       "    }\n",
       "\n",
       "    .dataframe tbody tr th {\n",
       "        vertical-align: top;\n",
       "    }\n",
       "\n",
       "    .dataframe thead th {\n",
       "        text-align: right;\n",
       "    }\n",
       "</style>\n",
       "<table border=\"1\" class=\"dataframe\">\n",
       "  <thead>\n",
       "    <tr style=\"text-align: right;\">\n",
       "      <th></th>\n",
       "      <th>INCOME</th>\n",
       "      <th>TOTAL SPENT</th>\n",
       "      <th>segment</th>\n",
       "    </tr>\n",
       "  </thead>\n",
       "  <tbody>\n",
       "    <tr>\n",
       "      <th>0</th>\n",
       "      <td>133498</td>\n",
       "      <td>6826.770</td>\n",
       "      <td>0</td>\n",
       "    </tr>\n",
       "    <tr>\n",
       "      <th>1</th>\n",
       "      <td>94475</td>\n",
       "      <td>5062.451</td>\n",
       "      <td>3</td>\n",
       "    </tr>\n",
       "    <tr>\n",
       "      <th>2</th>\n",
       "      <td>88610</td>\n",
       "      <td>8562.440</td>\n",
       "      <td>3</td>\n",
       "    </tr>\n",
       "    <tr>\n",
       "      <th>3</th>\n",
       "      <td>84313</td>\n",
       "      <td>5522.694</td>\n",
       "      <td>3</td>\n",
       "    </tr>\n",
       "    <tr>\n",
       "      <th>4</th>\n",
       "      <td>51498</td>\n",
       "      <td>213.512</td>\n",
       "      <td>1</td>\n",
       "    </tr>\n",
       "  </tbody>\n",
       "</table>\n",
       "</div>"
      ],
      "text/plain": [
       "   INCOME  TOTAL SPENT  segment\n",
       "0  133498     6826.770        0\n",
       "1   94475     5062.451        3\n",
       "2   88610     8562.440        3\n",
       "3   84313     5522.694        3\n",
       "4   51498      213.512        1"
      ]
     },
     "execution_count": 85,
     "metadata": {},
     "output_type": "execute_result"
    }
   ],
   "source": [
    "segment_DF.head()"
   ]
  },
  {
   "cell_type": "code",
   "execution_count": 86,
   "metadata": {},
   "outputs": [
    {
     "data": {
      "text/plain": [
       "array([[ 138629.34482759,    6996.87572414],\n",
       "       [  40510.09803922,    2472.75349673],\n",
       "       [ 111789.98360656,    7856.9202541 ],\n",
       "       [  79703.36956522,    5428.75010145]])"
      ]
     },
     "execution_count": 86,
     "metadata": {},
     "output_type": "execute_result"
    }
   ],
   "source": [
    "Kmeans_model.cluster_centers_"
   ]
  },
  {
   "cell_type": "code",
   "execution_count": 87,
   "metadata": {},
   "outputs": [
    {
     "data": {
      "text/html": [
       "<div>\n",
       "<style scoped>\n",
       "    .dataframe tbody tr th:only-of-type {\n",
       "        vertical-align: middle;\n",
       "    }\n",
       "\n",
       "    .dataframe tbody tr th {\n",
       "        vertical-align: top;\n",
       "    }\n",
       "\n",
       "    .dataframe thead th {\n",
       "        text-align: right;\n",
       "    }\n",
       "</style>\n",
       "<table border=\"1\" class=\"dataframe\">\n",
       "  <thead>\n",
       "    <tr style=\"text-align: right;\">\n",
       "      <th></th>\n",
       "      <th>INCOME</th>\n",
       "      <th>TOTAL SPENT</th>\n",
       "      <th>segment</th>\n",
       "    </tr>\n",
       "  </thead>\n",
       "  <tbody>\n",
       "    <tr>\n",
       "      <th>0</th>\n",
       "      <td>133498</td>\n",
       "      <td>6826.770</td>\n",
       "      <td>0</td>\n",
       "    </tr>\n",
       "    <tr>\n",
       "      <th>5</th>\n",
       "      <td>132893</td>\n",
       "      <td>5234.847</td>\n",
       "      <td>0</td>\n",
       "    </tr>\n",
       "    <tr>\n",
       "      <th>18</th>\n",
       "      <td>137128</td>\n",
       "      <td>8021.160</td>\n",
       "      <td>0</td>\n",
       "    </tr>\n",
       "    <tr>\n",
       "      <th>29</th>\n",
       "      <td>144108</td>\n",
       "      <td>6866.584</td>\n",
       "      <td>0</td>\n",
       "    </tr>\n",
       "    <tr>\n",
       "      <th>44</th>\n",
       "      <td>143119</td>\n",
       "      <td>7469.745</td>\n",
       "      <td>0</td>\n",
       "    </tr>\n",
       "  </tbody>\n",
       "</table>\n",
       "</div>"
      ],
      "text/plain": [
       "    INCOME  TOTAL SPENT  segment\n",
       "0   133498     6826.770        0\n",
       "5   132893     5234.847        0\n",
       "18  137128     8021.160        0\n",
       "29  144108     6866.584        0\n",
       "44  143119     7469.745        0"
      ]
     },
     "execution_count": 87,
     "metadata": {},
     "output_type": "execute_result"
    }
   ],
   "source": [
    "segment_DF[segment_DF.segment==0].head()"
   ]
  },
  {
   "cell_type": "code",
   "execution_count": 88,
   "metadata": {},
   "outputs": [],
   "source": [
    "import matplotlib.pyplot as plt"
   ]
  },
  {
   "cell_type": "code",
   "execution_count": 89,
   "metadata": {},
   "outputs": [
    {
     "data": {
      "image/png": "[encoded data removed]",
      "text/plain": [
       "<matplotlib.figure.Figure at 0x7f3f137967f0>"
      ]
     },
     "metadata": {},
     "output_type": "display_data"
    }
   ],
   "source": [
    "plt.scatter(segment_DF[segment_DF.segment==0]['INCOME'],segment_DF[segment_DF.segment==0]['TOTAL SPENT'],s=50, c='purple',label='Cluster1')\n",
    "\n",
    "plt.scatter(segment_DF[segment_DF.segment==1]['INCOME'],segment_DF[segment_DF.segment==1]['TOTAL SPENT'],s=50, c='blue',label='Cluster3')\n",
    "\n",
    "plt.scatter(segment_DF[segment_DF.segment==2]['INCOME'],segment_DF[segment_DF.segment==2]['TOTAL SPENT'],s=50, c='green',label='Cluster4')\n",
    "\n",
    "plt.scatter(segment_DF[segment_DF.segment==3]['INCOME'],segment_DF[segment_DF.segment==3]['TOTAL SPENT'],s=50, c='cyan',label='Cluster2')\n",
    "\n",
    "plt.scatter(Kmeans_model.cluster_centers_[:,0], Kmeans_model.cluster_centers_[:,1],s=200,marker='s', c='red', alpha=0.7, label='Centroids')\n",
    "\n",
    "plt.title('Customer segments using K-means (k=4)')\n",
    "\n",
    "plt.xlabel('Income')\n",
    "\n",
    "plt.ylabel('Total Spend')\n",
    "\n",
    "plt.legend()\n",
    "\n",
    "plt.show()"
   ]
  },
  {
   "cell_type": "code",
   "execution_count": 90,
   "metadata": {},
   "outputs": [
    {
     "data": {
      "text/html": [
       "<div>\n",
       "<style scoped>\n",
       "    .dataframe tbody tr th:only-of-type {\n",
       "        vertical-align: middle;\n",
       "    }\n",
       "\n",
       "    .dataframe tbody tr th {\n",
       "        vertical-align: top;\n",
       "    }\n",
       "\n",
       "    .dataframe thead th {\n",
       "        text-align: right;\n",
       "    }\n",
       "</style>\n",
       "<table border=\"1\" class=\"dataframe\">\n",
       "  <thead>\n",
       "    <tr style=\"text-align: right;\">\n",
       "      <th></th>\n",
       "      <th>CUSTOMERID</th>\n",
       "      <th>GENDER</th>\n",
       "      <th>AGE</th>\n",
       "      <th>INCOME</th>\n",
       "      <th>EXPERIENCE SCORE</th>\n",
       "      <th>LOYALTY GROUP</th>\n",
       "      <th>ENROLLMENT DATE</th>\n",
       "      <th>HOUSEHOLD SIZE</th>\n",
       "      <th>MARITAL STATUS</th>\n",
       "      <th>APPAREL</th>\n",
       "      <th>ELECTRONICS</th>\n",
       "      <th>FOOD</th>\n",
       "      <th>HEALTH &amp; BEAUTY</th>\n",
       "      <th>TOTAL SPENT</th>\n",
       "      <th>segment</th>\n",
       "    </tr>\n",
       "  </thead>\n",
       "  <tbody>\n",
       "    <tr>\n",
       "      <th>0</th>\n",
       "      <td>10001</td>\n",
       "      <td>0</td>\n",
       "      <td>64</td>\n",
       "      <td>133498</td>\n",
       "      <td>5</td>\n",
       "      <td>enrolled</td>\n",
       "      <td>06-03-2013</td>\n",
       "      <td>4</td>\n",
       "      <td>Single</td>\n",
       "      <td>4022.430</td>\n",
       "      <td>1601.315</td>\n",
       "      <td>68.688</td>\n",
       "      <td>1134.337</td>\n",
       "      <td>6826.770</td>\n",
       "      <td>0</td>\n",
       "    </tr>\n",
       "    <tr>\n",
       "      <th>1</th>\n",
       "      <td>10002</td>\n",
       "      <td>0</td>\n",
       "      <td>42</td>\n",
       "      <td>94475</td>\n",
       "      <td>9</td>\n",
       "      <td>notenrolled</td>\n",
       "      <td>NaN</td>\n",
       "      <td>6</td>\n",
       "      <td>Married</td>\n",
       "      <td>2312.509</td>\n",
       "      <td>2473.163</td>\n",
       "      <td>276.779</td>\n",
       "      <td>0.000</td>\n",
       "      <td>5062.451</td>\n",
       "      <td>3</td>\n",
       "    </tr>\n",
       "    <tr>\n",
       "      <th>2</th>\n",
       "      <td>10003</td>\n",
       "      <td>0</td>\n",
       "      <td>40</td>\n",
       "      <td>88610</td>\n",
       "      <td>9</td>\n",
       "      <td>enrolled</td>\n",
       "      <td>02-09-2010</td>\n",
       "      <td>5</td>\n",
       "      <td>Married</td>\n",
       "      <td>2887.382</td>\n",
       "      <td>5414.418</td>\n",
       "      <td>260.640</td>\n",
       "      <td>0.000</td>\n",
       "      <td>8562.440</td>\n",
       "      <td>3</td>\n",
       "    </tr>\n",
       "    <tr>\n",
       "      <th>3</th>\n",
       "      <td>10004</td>\n",
       "      <td>0</td>\n",
       "      <td>38</td>\n",
       "      <td>84313</td>\n",
       "      <td>8</td>\n",
       "      <td>enrolled</td>\n",
       "      <td>06-04-2015</td>\n",
       "      <td>1</td>\n",
       "      <td>Single</td>\n",
       "      <td>3637.213</td>\n",
       "      <td>1840.211</td>\n",
       "      <td>45.270</td>\n",
       "      <td>0.000</td>\n",
       "      <td>5522.694</td>\n",
       "      <td>3</td>\n",
       "    </tr>\n",
       "    <tr>\n",
       "      <th>4</th>\n",
       "      <td>10005</td>\n",
       "      <td>0</td>\n",
       "      <td>30</td>\n",
       "      <td>51498</td>\n",
       "      <td>3</td>\n",
       "      <td>notenrolled</td>\n",
       "      <td>NaN</td>\n",
       "      <td>1</td>\n",
       "      <td>Single</td>\n",
       "      <td>213.512</td>\n",
       "      <td>0.000</td>\n",
       "      <td>0.000</td>\n",
       "      <td>0.000</td>\n",
       "      <td>213.512</td>\n",
       "      <td>1</td>\n",
       "    </tr>\n",
       "  </tbody>\n",
       "</table>\n",
       "</div>"
      ],
      "text/plain": [
       "   CUSTOMERID  GENDER  AGE  INCOME  EXPERIENCE SCORE LOYALTY GROUP  \\\n",
       "0       10001       0   64  133498                 5      enrolled   \n",
       "1       10002       0   42   94475                 9   notenrolled   \n",
       "2       10003       0   40   88610                 9      enrolled   \n",
       "3       10004       0   38   84313                 8      enrolled   \n",
       "4       10005       0   30   51498                 3   notenrolled   \n",
       "\n",
       "  ENROLLMENT DATE  HOUSEHOLD SIZE MARITAL STATUS   APPAREL  ELECTRONICS  \\\n",
       "0      06-03-2013               4         Single  4022.430     1601.315   \n",
       "1             NaN               6        Married  2312.509     2473.163   \n",
       "2      02-09-2010               5        Married  2887.382     5414.418   \n",
       "3      06-04-2015               1         Single  3637.213     1840.211   \n",
       "4             NaN               1         Single   213.512        0.000   \n",
       "\n",
       "      FOOD  HEALTH & BEAUTY  TOTAL SPENT  segment  \n",
       "0   68.688         1134.337     6826.770        0  \n",
       "1  276.779            0.000     5062.451        3  \n",
       "2  260.640            0.000     8562.440        3  \n",
       "3   45.270            0.000     5522.694        3  \n",
       "4    0.000            0.000      213.512        1  "
      ]
     },
     "execution_count": 90,
     "metadata": {},
     "output_type": "execute_result"
    }
   ],
   "source": [
    "\n",
    "customer_demographics=pd.concat([customer_all_view,cluster_output_pd],axis=1)\n",
    "\n",
    "\n",
    "customer_demographics.head()\n"
   ]
  },
  {
   "cell_type": "code",
   "execution_count": 91,
   "metadata": {},
   "outputs": [
    {
     "data": {
      "text/html": [
       "<div>\n",
       "<style scoped>\n",
       "    .dataframe tbody tr th:only-of-type {\n",
       "        vertical-align: middle;\n",
       "    }\n",
       "\n",
       "    .dataframe tbody tr th {\n",
       "        vertical-align: top;\n",
       "    }\n",
       "\n",
       "    .dataframe thead th {\n",
       "        text-align: right;\n",
       "    }\n",
       "</style>\n",
       "<table border=\"1\" class=\"dataframe\">\n",
       "  <thead>\n",
       "    <tr style=\"text-align: right;\">\n",
       "      <th></th>\n",
       "      <th>HOUSEHOLD SIZE</th>\n",
       "      <th>AGE</th>\n",
       "    </tr>\n",
       "    <tr>\n",
       "      <th>segment</th>\n",
       "      <th></th>\n",
       "      <th></th>\n",
       "    </tr>\n",
       "  </thead>\n",
       "  <tbody>\n",
       "    <tr>\n",
       "      <th>0</th>\n",
       "      <td>2.0</td>\n",
       "      <td>73.609195</td>\n",
       "    </tr>\n",
       "    <tr>\n",
       "      <th>1</th>\n",
       "      <td>2.0</td>\n",
       "      <td>25.104575</td>\n",
       "    </tr>\n",
       "    <tr>\n",
       "      <th>2</th>\n",
       "      <td>3.0</td>\n",
       "      <td>48.032787</td>\n",
       "    </tr>\n",
       "    <tr>\n",
       "      <th>3</th>\n",
       "      <td>3.5</td>\n",
       "      <td>36.615942</td>\n",
       "    </tr>\n",
       "  </tbody>\n",
       "</table>\n",
       "</div>"
      ],
      "text/plain": [
       "         HOUSEHOLD SIZE        AGE\n",
       "segment                           \n",
       "0                   2.0  73.609195\n",
       "1                   2.0  25.104575\n",
       "2                   3.0  48.032787\n",
       "3                   3.5  36.615942"
      ]
     },
     "execution_count": 91,
     "metadata": {},
     "output_type": "execute_result"
    }
   ],
   "source": [
    "customer_demographics.groupby('segment').agg({'AGE':'mean','HOUSEHOLD SIZE':'median'})"
   ]
  },
  {
   "cell_type": "code",
   "execution_count": 92,
   "metadata": {},
   "outputs": [],
   "source": [
    "def percent_loyalty(series):\n",
    "    percent=100 * series.value_counts()['enrolled'] /series.count()\n",
    "    return percent"
   ]
  },
  {
   "cell_type": "code",
   "execution_count": 93,
   "metadata": {},
   "outputs": [
    {
     "data": {
      "text/html": [
       "<div>\n",
       "<style scoped>\n",
       "    .dataframe tbody tr th:only-of-type {\n",
       "        vertical-align: middle;\n",
       "    }\n",
       "\n",
       "    .dataframe tbody tr th {\n",
       "        vertical-align: top;\n",
       "    }\n",
       "\n",
       "    .dataframe thead th {\n",
       "        text-align: right;\n",
       "    }\n",
       "</style>\n",
       "<table border=\"1\" class=\"dataframe\">\n",
       "  <thead>\n",
       "    <tr style=\"text-align: right;\">\n",
       "      <th></th>\n",
       "      <th>HOUSEHOLD SIZE</th>\n",
       "      <th>AGE</th>\n",
       "      <th>LOYALTY GROUP</th>\n",
       "    </tr>\n",
       "    <tr>\n",
       "      <th>segment</th>\n",
       "      <th></th>\n",
       "      <th></th>\n",
       "      <th></th>\n",
       "    </tr>\n",
       "  </thead>\n",
       "  <tbody>\n",
       "    <tr>\n",
       "      <th>0</th>\n",
       "      <td>2.0</td>\n",
       "      <td>73.609195</td>\n",
       "      <td>65.517241</td>\n",
       "    </tr>\n",
       "    <tr>\n",
       "      <th>1</th>\n",
       "      <td>2.0</td>\n",
       "      <td>25.104575</td>\n",
       "      <td>50.326797</td>\n",
       "    </tr>\n",
       "    <tr>\n",
       "      <th>2</th>\n",
       "      <td>3.0</td>\n",
       "      <td>48.032787</td>\n",
       "      <td>68.852459</td>\n",
       "    </tr>\n",
       "    <tr>\n",
       "      <th>3</th>\n",
       "      <td>3.5</td>\n",
       "      <td>36.615942</td>\n",
       "      <td>33.333333</td>\n",
       "    </tr>\n",
       "  </tbody>\n",
       "</table>\n",
       "</div>"
      ],
      "text/plain": [
       "         HOUSEHOLD SIZE        AGE  LOYALTY GROUP\n",
       "segment                                          \n",
       "0                   2.0  73.609195      65.517241\n",
       "1                   2.0  25.104575      50.326797\n",
       "2                   3.0  48.032787      68.852459\n",
       "3                   3.5  36.615942      33.333333"
      ]
     },
     "execution_count": 93,
     "metadata": {},
     "output_type": "execute_result"
    }
   ],
   "source": [
    "customer_demographics.groupby('segment').agg({'AGE':'mean','HOUSEHOLD SIZE':'median','LOYALTY GROUP': percent_loyalty})"
   ]
  },
  {
   "cell_type": "markdown",
   "metadata": {},
   "source": [
    "# Conclusion\n",
    "\n",
    "You used the K-means and hierarchical clustering algorithms to cluster customer data based on Income and total spending. The resulting clusters were evaluated by data that was not used for clustering, such as age, household size, and loyalty enrollment."
   ]
  },
  {
   "cell_type": "code",
   "execution_count": null,
   "metadata": {},
   "outputs": [],
   "source": []
  }
 ],
 "metadata": {
  "kernelspec": {
   "display_name": "Python 3.5",
   "language": "python",
   "name": "python3"
  },
  "language_info": {
   "codemirror_mode": {
    "name": "ipython",
    "version": 3
   },
   "file_extension": ".py",
   "mimetype": "text/x-python",
   "name": "python",
   "nbconvert_exporter": "python",
   "pygments_lexer": "ipython3",
   "version": "3.5.5"
  }
 },
 "nbformat": 4,
 "nbformat_minor": 1
}
